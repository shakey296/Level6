{
  "nbformat": 4,
  "nbformat_minor": 0,
  "metadata": {
    "colab": {
      "provenance": [],
      "authorship_tag": "ABX9TyNL/arrt0sDsftCpzHS6pzt",
      "include_colab_link": true
    },
    "kernelspec": {
      "name": "python3",
      "display_name": "Python 3"
    },
    "language_info": {
      "name": "python"
    }
  },
  "cells": [
    {
      "cell_type": "markdown",
      "metadata": {
        "id": "view-in-github",
        "colab_type": "text"
      },
      "source": [
        "<a href=\"https://colab.research.google.com/github/shakey296/Level6/blob/main/Simple_calcualtor.ipynb\" target=\"_parent\"><img src=\"https://colab.research.google.com/assets/colab-badge.svg\" alt=\"Open In Colab\"/></a>"
      ]
    },
    {
      "cell_type": "code",
      "execution_count": null,
      "metadata": {
        "id": "ij82L5CzaWX0"
      },
      "outputs": [],
      "source": [
        "def menu():\n",
        "  while True:\n",
        "    print (\"1: Addition\")\n",
        "    print (\"2: Subtraction\")\n",
        "    print (\"3: Muliplication\")\n",
        "    print (\"4: Division\")\n",
        "\n",
        "    while True:\n",
        "      try:\n",
        "        choice = int(input(\"Which operation do you wish to perform:\"))\n",
        "        if choice > 0 and choice < 5:\n",
        "          break\n",
        "        else:\n",
        "          print(\"This is not an  option\")\n",
        "      except:\n",
        "        print(\"This is not an  option\")\n",
        "\n",
        "    while True:\n",
        "      try:\n",
        "        x = int(input(\"proide first number:\"))\n",
        "        y = int(input(\"provide second number\"))\n",
        "        break\n",
        "      except:\n",
        "        print (\"one of these is not a whole number\")\n",
        "\n",
        "    output = do_math(x,y,choice)\n",
        "    print(output[1])\n",
        "\n",
        "    while True:\n",
        "      next = input(\"do you want to do that again (Y/N)?\")\n",
        "\n",
        "      if next.upper() == \"Y\" or next.upper() == \"N\" :\n",
        "        break\n",
        "      else:\n",
        "        print(\"This is not an  option\")\n",
        "\n",
        "    if next.upper() ==\"Y\":\n",
        "      continue\n",
        "    else:\n",
        "      break\n",
        "\n",
        "\n",
        "# initial wrote a sperate function to format the screen output but realise I could return a list\n",
        "# so this extra function was not required.\n",
        "\n",
        "def do_math(x,y,choice):\n",
        "\n",
        "  if choice == 1:\n",
        "    output = x+y\n",
        "    poutput = print(\"{} + {} = {}\".format(x,y,output))\n",
        "  elif choice == 2:\n",
        "    output = x-y\n",
        "    poutput = print(\"{} - {} = {}\".format(x,y,output))\n",
        "  elif choice == 3:\n",
        "    output = x*y\n",
        "    poutput = print(\"{} * {} = {}\".format(x,y,output))\n",
        "  else:\n",
        "    output = x/y\n",
        "    poutput = print(\"{} - {} = {}\".format(x,y,output))\n",
        "\n",
        "  return(output,poutput)\n",
        "\n",
        "\n",
        "\n",
        "menu()"
      ]
    }
  ]
}